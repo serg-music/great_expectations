{
 "cells": [
  {
   "cell_type": "markdown",
   "id": "834eb3b0",
   "metadata": {},
   "source": [
    "# How to use `DataAssistants`\n",
    "\n",
    "* A `DataAssistant` enables you to quickly profile your data by providing a thin API over a pre-constructed `RuleBasedProfiler` configuration.\n",
    "* As a result of the profiling, you get back a result object consisting of \n",
    "    * `Metrics` that describe the current state of the data\n",
    "    * `Expectations` that are able to alert you if the data deviates from the expected state in the future. \n",
    "    \n",
    "* `DataAssistant` results can also be plotted to help you understand their data visually.\n",
    "* There are multiple `DataAssistants` centered around a theme (volume, nullity etc), and this notebook walks you through an example `VolumeDataAssistant` to show the capabilities and potential of this new interface."
   ]
  },
  {
   "cell_type": "markdown",
   "id": "26b3aab6",
   "metadata": {},
   "source": [
    "### What is a `VolumeDataAssistant`?\n",
    "* The `VolumeDataAssistant` allows you to automatically build a set of Expectations that alerts you if the volume of records significantly deviates from the norm. \n",
    "\n",
    "More specfically, the `VolumeDataAssistant` profiles the data and outputs an `ExpectationSuite` containing 2 `Expecation` types \n",
    "\n",
    "* `expect_table_row_count_to_be_between`\n",
    "* `expect_column_unique_value_count_to_be_between`\n",
    "\n",
    "with automatically selected values for upper and lower bound. The ranges are selected using a bootstrapping step on the sample `Batches`. This allows the `DataAssistant` to account for outliers, allowing it to obtain a more accurate estimate of the true ranges by taking into account the underlying distribution."
   ]
  },
  {
   "cell_type": "code",
   "execution_count": null,
   "id": "8362d4be",
   "metadata": {},
   "outputs": [],
   "source": [
    "import great_expectations as ge\n",
    "from great_expectations.core.yaml_handler import YAMLHandler\n",
    "from great_expectations.core.batch import BatchRequest\n",
    "from great_expectations.core import ExpectationSuite\n",
    "from great_expectations.validator.validator import Validator\n",
    "from great_expectations.rule_based_profiler.data_assistant import (\n",
    "    DataAssistant,\n",
    "    VolumeDataAssistant,\n",
    ")\n",
    "from great_expectations.rule_based_profiler.types.data_assistant_result import (\n",
    "    DataAssistantResult,\n",
    ")\n",
    "yaml = YAMLHandler()"
   ]
  },
  {
   "cell_type": "markdown",
   "id": "247a6073",
   "metadata": {},
   "source": [
    "## Set-up: Adding `taxi_data` `Datasource`\n",
    "* Add `taxi_data` as a new `Datasource`\n",
    "* We are using an `InferredAssetFilesystemDataConnector` to connect to data in the `test_sets/taxi_yellow_tripdata_samples` folder and get one `DataAsset` (`yellow_tripdata_sample`) that has 36 Batches, corresponding to one batch per month from 2018-2020."
   ]
  },
  {
   "cell_type": "code",
   "execution_count": null,
   "id": "76dcee57",
   "metadata": {},
   "outputs": [],
   "source": [
    "data_context: ge.DataContext = ge.get_context()"
   ]
  },
  {
   "cell_type": "code",
   "execution_count": null,
   "id": "a29fd9a3",
   "metadata": {},
   "outputs": [],
   "source": [
    "data_path: str = \"../../../../test_sets/taxi_yellow_tripdata_samples\"\n",
    "\n",
    "datasource_config: dict = {\n",
    "    \"name\": \"taxi_data_all_years\",\n",
    "    \"class_name\": \"Datasource\",\n",
    "    \"module_name\": \"great_expectations.datasource\",\n",
    "    \"execution_engine\": {\n",
    "        \"module_name\": \"great_expectations.execution_engine\",\n",
    "        \"class_name\": \"PandasExecutionEngine\",\n",
    "    },\n",
    "    \"data_connectors\": {\n",
    "        \"inferred_data_connector_all_years\": {\n",
    "            \"class_name\": \"InferredAssetFilesystemDataConnector\",\n",
    "            \"base_directory\": data_path,\n",
    "            \"default_regex\": {\n",
    "                \"group_names\": [\"data_asset_name\", \"year\", \"month\"],\n",
    "                \"pattern\": \"(yellow_tripdata_sample)_(2018|2019|2020)-(\\\\d.*)\\\\.csv\",\n",
    "            },\n",
    "        },\n",
    "    },\n",
    "}\n",
    "\n",
    "data_context.test_yaml_config(yaml.dump(datasource_config))"
   ]
  },
  {
   "cell_type": "code",
   "execution_count": null,
   "id": "ee0be5a2",
   "metadata": {},
   "outputs": [],
   "source": [
    "# add_datasource only if it doesn't already exist in our configuration\n",
    "try:\n",
    "    data_context.get_datasource(datasource_config[\"name\"])\n",
    "except ValueError:\n",
    "    data_context.add_datasource(**datasource_config)"
   ]
  },
  {
   "cell_type": "markdown",
   "id": "a4aa73e4",
   "metadata": {},
   "source": [
    "#  Configure `BatchRequest`"
   ]
  },
  {
   "cell_type": "markdown",
   "id": "61e86821",
   "metadata": {},
   "source": [
    "In this example, we will be using a `BatchRequest` that will return all 36 batches of data from the `taxi_data` dataset.  We will refer to the `Datasource` and `DataConnector` configured in the previous step. "
   ]
  },
  {
   "cell_type": "code",
   "execution_count": null,
   "id": "b790e8b2",
   "metadata": {},
   "outputs": [],
   "source": [
    "multi_batch_all_years_batch_request: BatchRequest = BatchRequest(\n",
    "    datasource_name=\"taxi_data_all_years\",\n",
    "    data_connector_name=\"inferred_data_connector_all_years\",\n",
    "    data_asset_name=\"yellow_tripdata_sample\",\n",
    ")"
   ]
  },
  {
   "cell_type": "code",
   "execution_count": null,
   "id": "da5b6cf0",
   "metadata": {},
   "outputs": [],
   "source": [
    "batch_request: BatchRequest = multi_batch_all_years_batch_request"
   ]
  },
  {
   "cell_type": "markdown",
   "id": "f9a38c3a",
   "metadata": {},
   "source": [
    "# Run the `VolumeDataAssistant`"
   ]
  },
  {
   "cell_type": "markdown",
   "id": "4c1b2796",
   "metadata": {},
   "source": [
    "* The `VolumeDataAssistant` can be run directly from the `DataContext` by specifying `assistants` and `volume`, and passing in the `BatchRequest` from the previous step."
   ]
  },
  {
   "cell_type": "code",
   "execution_count": null,
   "id": "cd2ea1be",
   "metadata": {},
   "outputs": [],
   "source": [
    "result: DataAssistantResult = data_context.assistants.volume.run(batch_request=batch_request)"
   ]
  },
  {
   "cell_type": "code",
   "execution_count": null,
   "id": "bcf75460",
   "metadata": {},
   "outputs": [],
   "source": [
    "result: DataAssistantResult = data_context.assistants.volume.run(batch_request=batch_request)"
   ]
  },
  {
   "cell_type": "markdown",
   "id": "6646fd0b",
   "metadata": {},
   "source": [
    "# Explore `DataAssistantResult` by plotting"
   ]
  },
  {
   "cell_type": "markdown",
   "id": "bc3d2948",
   "metadata": {},
   "source": [
    "The resulting `DataAssistantResult` can be best explored by plotting. For each `Domain` considered (`Table` and `Column` in our case), the plots will display the value for each `Batch` (36 in total). "
   ]
  },
  {
   "cell_type": "code",
   "execution_count": null,
   "id": "dd4c66e9",
   "metadata": {},
   "outputs": [],
   "source": [
    "result.plot()"
   ]
  },
  {
   "cell_type": "markdown",
   "id": "e28f7a78",
   "metadata": {},
   "source": [
    "An additional layer of information that can be retrieved from the `DataAssistantResult` is the `prescriptive` information, which corresponds to the range values of the `Expectations` that result from the `DataAssistant` run. \n",
    "\n",
    "For example the `vendor_id` plot will show that the range of distinct `vendor_id` values ranged from 2-3 across all of our `Batches`, as indicated by the blue band around the plotted values. These values correspond to the `max_value` and `min_value` for the resulting `Expectation`, `expect_column_unique_value_count_to_be_between`."
   ]
  },
  {
   "cell_type": "code",
   "execution_count": null,
   "id": "03353ac8",
   "metadata": {},
   "outputs": [],
   "source": [
    "result.plot(prescriptive=True)"
   ]
  },
  {
   "cell_type": "markdown",
   "id": "0437017f",
   "metadata": {},
   "source": [
    "# Save `ExpectationSuite`"
   ]
  },
  {
   "cell_type": "markdown",
   "id": "090b0dbc",
   "metadata": {},
   "source": [
    "Finally, we can save the `ExpectationConfiguration` objext resulting from the `DataAssistant` in our `ExpectationSuite` and then use the `DataContext`'s `save_expectation_suite()` method to pass in our `ExpectationSuite`, updated with the `DataAssistant`."
   ]
  },
  {
   "cell_type": "code",
   "execution_count": null,
   "id": "e4db1dfc-defd-4b83-bc65-0e77ccd67cd7",
   "metadata": {},
   "outputs": [],
   "source": [
    "suite: ExpectationSuite = ExpectationSuite(expectation_suite_name=\"taxi_data_suite\")"
   ]
  },
  {
   "cell_type": "code",
   "execution_count": null,
   "id": "eaf5d924-1c10-4eab-b6ed-2063d0a73871",
   "metadata": {},
   "outputs": [],
   "source": [
    "suite.add_expectation_configurations(expectation_configurations=result.expectation_configurations)"
   ]
  },
  {
   "cell_type": "code",
   "execution_count": null,
   "id": "9426227a",
   "metadata": {},
   "outputs": [],
   "source": [
    "data_context.save_expectation_suite(expectation_suite=suite)"
   ]
  },
  {
   "cell_type": "markdown",
   "id": "0d02f5e8",
   "metadata": {},
   "source": [
    "## Optional: Clean-up Directory\n"
   ]
  },
  {
   "cell_type": "markdown",
   "id": "f973a7ef",
   "metadata": {},
   "source": [
    "As part of running this notebook, the `DataAssistant` will create a number of ExpectationSuite configurations in the `great_expectations/expectations/tmp` directory. Optionally run the following cell to clean up the directory."
   ]
  },
  {
   "cell_type": "code",
   "execution_count": null,
   "id": "4857e285",
   "metadata": {},
   "outputs": [],
   "source": [
    "# import shutil, os\n",
    "# shutil.rmtree(\"great_expectations/expectations/tmp\")\n",
    "# os.remove(\"great_expectations/expectations/.ge_store_backend_id\")\n",
    "# os.remove(\"great_expectations/expectations/taxi_data_suite.json\")"
   ]
  }
 ],
 "metadata": {
  "kernelspec": {
   "display_name": "Python 3 (ipykernel-venv)",
   "language": "python",
   "name": "python3"
  },
  "language_info": {
   "codemirror_mode": {
    "name": "ipython",
    "version": 3
   },
   "file_extension": ".py",
   "mimetype": "text/x-python",
   "name": "python",
   "nbconvert_exporter": "python",
   "pygments_lexer": "ipython3",
   "version": "3.9.12"
  }
 },
 "nbformat": 4,
 "nbformat_minor": 5
}
